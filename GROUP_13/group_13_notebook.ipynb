{
 "cells": [
  {
   "cell_type": "markdown",
   "id": "0eb61462",
   "metadata": {},
   "source": [
    "## <u>Introduction"
   ]
  },
  {
   "cell_type": "markdown",
   "id": "afe3a440",
   "metadata": {},
   "source": [
    "### Purpose of our project"
   ]
  },
  {
   "cell_type": "markdown",
   "id": "f05abfd7",
   "metadata": {},
   "source": [
    "The ongoing COVID 19 pandemic exerts immense pressure on medical resources, giving rise to difficulties in allocating resources efficiently to patients in hospitals. In Singapore, hospitals reached an 85% isolation bed occupancy just last year in August, even though there was almost a three-fold increase in beds allocated to COVID 19 patients$^{1}$. What if we use a mathematical model that would help us graph out how the viral load in the patient changes across their infection period? That would help us better understand the stage of disease progression in each patient$^{2}$, aiding in resource allocation and prioritisation amongst patients.\n",
    "\n",
    "In this project, we will be using a published model by Baccam et al. (2006) regarding the viral kinetics of Influenza A$^{3}$, which refers to the changes in viral load in infected patients over the time of infection. Since COVID 19 and Influenza A share similar viral modes of transmission, immune response elicited by the virus particles, and clinical features observed in infected patients$^{4}$, we will apply Baccam’s model in the context of COVID 19, using patient data published by Néant et al. (2021) as our model’s parameters values$^{5}$.\n",
    " \n",
    "Overall, using patient-specific data to model the viral kinetics in COVID 19 patients, we aim to plot graphs for each patient that are capable of forecasting the specific time at which the highest viral load is achieved, indicating that the infection would be the worst. Hence, hospitals can administer suitable treatments and dosages based on their viral load levels. We also aim to compare the viral load trends between different age groups across different initial viral loads to give us a better insight into the priority populations.\n"
   ]
  },
  {
   "cell_type": "markdown",
   "id": "414d9e6d",
   "metadata": {},
   "source": [
    "### Why Python?"
   ]
  },
  {
   "cell_type": "markdown",
   "id": "da0534d0",
   "metadata": {},
   "source": [
    "We will be using Python because it has the ability to process a large amount of data using dictionaries, loops, lists and the pandas package. Using matplotlib to plot graphs respectively will aid with the accurate visualisation of data.  \n",
    "\n",
    "Using python, we can encapsulate all the differential equations into a function, and all the patient-specific variables required for Baccam’s model are put as the input parameters of the function, making this function reusable. Python can then solve these differential equations with a large time step by generating many data points required for graph plotting. In the context of application, hospitals would only need to change the patient-dependent variables for the inputs of this python function, to generate a tailored graphical representation of the patient’s viral load trend over their infection period. This can be easily done by healthcare professionals without having to understand the implementation of the code. \n",
    "\n"
   ]
  },
  {
   "cell_type": "markdown",
   "id": "bab15d60",
   "metadata": {},
   "source": [
    "## <u>Baccam’s target cell-limited model with delayed virus production"
   ]
  },
  {
   "cell_type": "markdown",
   "id": "ed52a134",
   "metadata": {},
   "source": [
    "### Why this model?"
   ]
  },
  {
   "cell_type": "markdown",
   "id": "9e40e04b",
   "metadata": {},
   "source": [
    "Computational epidemiologist Dr. Prasith Baccam has over 2 decades of experience in medical consequence modelling and disease outbreak simulation$^{6}$. His paper on influenza A viral kinetics boasts 702 citations in 305 papers since 2006, with many of those citations in 2021/2022, thus proving the time-persistent relevance of this paper in studying viral kinetics. \n",
    "\n",
    "This model has been thoroughly trialed and tested with different parameters being fitted into differential equations, and with different values for each parameter. The best-fit parameter estimates for each patient were calculated to produce a final model that best fits the experimental data in the graph. \n",
    "\n",
    "Furthermore, this paper considers simple yet concise patient-specific parameters, which allows for the ease of application to various viral infections which have limited sample data, and the resulting graph returned is sufficient to deduce crucial points of infection such as when the viral load in the patient is at a peak.\n",
    "\n",
    "\n"
   ]
  },
  {
   "cell_type": "markdown",
   "id": "626cfb1b",
   "metadata": {},
   "source": [
    "### Parameters of the model"
   ]
  },
  {
   "cell_type": "markdown",
   "id": "882f409d",
   "metadata": {},
   "source": [
    "Firstly, we will introduce the parameters used in Baccam’s model. All the constant parameters that will not change over time are shown below, with the units used in the Influenza A study shown in the brackets. Note that these parameters are both  patient-specific and virus-specific. \n",
    "\n",
    "#### Constants:\n",
    "\n",
    "$β$: Rate constant characterising infection ((TCID$_{50}$/ml)$^{-1}$ day$^{-1}$)\n",
    "\n",
    "$k$: Rate of transition from $I_1$ to $I_2$ (day$^{-1}$)\n",
    "\n",
    "$c$: Viral clearance rate (day$^{-1}$)\n",
    "\n",
    "$δ$: Death rate of virally infected cells (day$^{-1}$) \n",
    "\n",
    "$p$: Viral production rate per cell  (TCID$_{50}$/ml.day$^{-1}$)"
   ]
  },
  {
   "cell_type": "markdown",
   "id": "b528ce71",
   "metadata": {},
   "source": [
    "The model also involves variables with values changing over time as shown below. We can calculate their value at a specific time using Euler’s method, which will be explained in detail later. \n",
    "\n",
    "#### Variables: \n",
    "\n",
    "$T$: Number of uninfected cells (initial value: 4 $\\times$ 10 $^8$ cells)\n",
    "\n",
    "$V$: Viral titer (TCID$_{50}$/ml)\n",
    "\n",
    "$t$ : Time (days) \n",
    "\n",
    "$I_1$: Number of cells that are infected but not yet producing virus\n",
    "\n",
    "$I_2$: Number of cells that are infected and actively producing virus "
   ]
  },
  {
   "cell_type": "markdown",
   "id": "7404fa4a",
   "metadata": {},
   "source": [
    "When using this model in real-life, the initial concentration of viral particles, viral titer ($V_0$) , will be measured by performing  TCID$_{50}$ assay using the nasal wash of patients only on the first day of infection. The  TCID$_{50}$ assay involves host tissue cells culturing on a well plate and the addition of various concentrations of a viral fluid for incubation. After which, the concentration of virus required to infect 50% of host tissue cells is measured to give the  TCID$_{50}$ value$^{7}$. The $V$ value after that will be derived using the equations. For the purpose of assessing how well the graph fits with real-life data, Baccam et al. measured the $V$ value for multiple days. \n",
    "\n",
    "The initial value of the number of uninfected cells ($T_0$) can be derived based on the total number of cells available in the target organ of infection, which is the upper respiratory tract. The initial values of $I_1$ and $I_2$ are both set to 0, based on the assumptions stated below. \n",
    "\n",
    "Other constant parameters such as $β$, $k$, $c$, $δ$ and $p$ are all best estimates that can best fit the experimental data. \n"
   ]
  },
  {
   "cell_type": "markdown",
   "id": "d4bba827",
   "metadata": {},
   "source": [
    "### Differential equations"
   ]
  },
  {
   "cell_type": "markdown",
   "id": "56ef1318",
   "metadata": {},
   "source": [
    "$$\\frac{dT}{dt} = -βTV$$\n",
    "\n",
    "Equation 1 denotes the change in number of uninfected cells ($dT$) in the patient over time in terms of days ($dt$). Throughout the infection period, as the number of infected cells increases, the number of uninfected cells decreases. Thus, the change will always be negative. \n",
    "\n",
    "Equation 1 takes into account the number of uninfected cells ($T$). The more the number of uninfected cells, the higher the availability of target cells for infection. This further affects the extent of change in the number of uninfected cells. Thus, $T$ is included in the equation.\n",
    "\n",
    "The viral titer ($V$) is included in Equation 1. The higher the viral titer, the bigger the changes in the number of uninfected cells over time, since there are more virus particles able to infect more cells per time. Hence the number of uninfected cells will decrease according to the viral titer. Therefore, $V$ is incorporated into the equation.\n",
    "\n",
    "Lastly, Equation 1 contains a rate constant characterising Influenza A infection ($β$). Including $β$ will take into consideration the efficiency of the specific virus to infect host cells, as some viruses bind to and infect host cells at a faster rate."
   ]
  },
  {
   "cell_type": "markdown",
   "id": "7b952e80",
   "metadata": {},
   "source": [
    "**$$\\frac{dI_1}{dt}= βTV-kI_1$$**\n",
    "\n",
    "Equation 2 denotes the change in number of infected cells that are not yet producing virus ($dI_1$) in the patient over time in terms of days ($dt$). \n",
    "\n",
    "Increase in the number of $I_1$ is directly proportional to the decrease in the number of uninfected cells ($T$) as $T$ are converted to $I_1$ immediately after infection. Hence, $βTV$ which is $-\\frac{dT}{dt}$ (the change in number of uninfected cells over time) is included in this equation. \n",
    "\n",
    "The equation also acknowledges that some $I_1$ will gain the ability to reproduce virus and transit into infected cells actively producing virus ($I_2$) over time. Hence, $k$ denoting the rate of transition from $I_1$ to $I_2$ is multiplied by the number of $I_1$ to reflect the decrease in number of $I_1$ over time. \n"
   ]
  },
  {
   "cell_type": "markdown",
   "id": "c52847f8",
   "metadata": {},
   "source": [
    "$$\\frac{dI_2}{dt}=kI_1-δI_2$$\n",
    "\n",
    "Equation 3 denotes the change in number of infected cells actively producing virus ($dI_2$) in the patient over time in terms of days ($dt$).\n",
    "\n",
    "The increase in the number of $I_2$ is directly proportional to the number of $I_1$ that is being transitioned to $I_2$. This is calculated by multiplying the transition rate from $I_1$ to $I_2$ ($k$) with $I_1$.\n",
    "Simultaneously, the number of $I_2$ decreases as the infected cells will die eventually. Thus, the number of $I_2$ is multiplied by the death rate of the infected cells ($δ$) and this value is in negative form to indicate the negative change in $I_2$."
   ]
  },
  {
   "cell_type": "markdown",
   "id": "ff6f393f",
   "metadata": {},
   "source": [
    "$$\\frac{dV}{dt}=pI_2-cV$$\n",
    "\n",
    "Equation 4 denotes the change in the viral titer ($dV$) in the patient over time in terms of days ($dt$).\n",
    "\n",
    "The increase in viral titer is calculated by $pI_2$. The number of infected cells actively producing virus ($I_2$) is multiplied with viral production rate ($p$) to deduce the total number of viral particles produced from these actively producing infected cells, which is denoted by $V$. \n",
    "\n",
    "Simultaneously, the decrease in the viral titer due to the clearance of virus is deduced by $cV$, where the viral titer ($V$) is multiplied with the clearance rate ($c$) to deduce the number of viral particles in the individuals that are successfully eliminated by the host immune system.\n"
   ]
  },
  {
   "cell_type": "markdown",
   "id": "a7da8342",
   "metadata": {},
   "source": [
    "### Assumptions"
   ]
  },
  {
   "cell_type": "markdown",
   "id": "f6030ec9",
   "metadata": {},
   "source": [
    "The following assumptions are made in the model.\n",
    "1.  The first value of viral titer TCID$_{50}$/ml of nasal wash retrieved from the patients ($V_0$) is in fact the concentration of infectious viral particles that was introduced into the patient at the start of the infection.\n",
    "2. At the beginning of infection, all cells in the target organ are uninfected. Hence, the number of uninfected cells ($T_0$) is approximated to be the actual total number of cells available in the target organ, while the number of infected cells (both $I_1$ and $I_2$) are 0. \n",
    "3. Only upper respiratory viral infection is included when modelling, and it is assumed that the infection is not extended to other sites such as nasal passages which could possibly lead to more than one peak in viral kinetics graph. \n"
   ]
  },
  {
   "cell_type": "markdown",
   "id": "14a0fc9a",
   "metadata": {},
   "source": [
    "### In the context of Influenza A"
   ]
  },
  {
   "cell_type": "markdown",
   "id": "d14e19f8",
   "metadata": {},
   "source": [
    "The experimental data used in this model was retrieved from the study regarding Influenza A$^{8}$. In this experiment, 6 adult patients who were 25 years old or younger, with no recent related influenza infections, were artificially infected with cloned wild-type Influenza A/Hong Kong/123/77 virus. The viral titer at the upper respiratory tracts of the subjects was measured using a nasal wash every 24 hours for 7 days, in the unit of TCID$_{50}$/ml.\n"
   ]
  },
  {
   "cell_type": "code",
   "execution_count": 2,
   "id": "0c854d5b",
   "metadata": {},
   "outputs": [],
   "source": [
    "import numpy as np\n",
    "import matplotlib.pyplot as plt\n",
    "import pandas as pd"
   ]
  },
  {
   "cell_type": "code",
   "execution_count": 3,
   "id": "f73ab703",
   "metadata": {},
   "outputs": [
    {
     "ename": "ImportError",
     "evalue": "Missing optional dependency 'openpyxl'.  Use pip or conda to install openpyxl.",
     "output_type": "error",
     "traceback": [
      "\u001b[0;31m---------------------------------------------------------------------------\u001b[0m",
      "\u001b[0;31mModuleNotFoundError\u001b[0m                       Traceback (most recent call last)",
      "File \u001b[0;32m~/miniconda3/lib/python3.8/site-packages/pandas/compat/_optional.py:126\u001b[0m, in \u001b[0;36mimport_optional_dependency\u001b[0;34m(name, extra, errors, min_version)\u001b[0m\n\u001b[1;32m    125\u001b[0m \u001b[38;5;28;01mtry\u001b[39;00m:\n\u001b[0;32m--> 126\u001b[0m     module \u001b[38;5;241m=\u001b[39m \u001b[43mimportlib\u001b[49m\u001b[38;5;241;43m.\u001b[39;49m\u001b[43mimport_module\u001b[49m\u001b[43m(\u001b[49m\u001b[43mname\u001b[49m\u001b[43m)\u001b[49m\n\u001b[1;32m    127\u001b[0m \u001b[38;5;28;01mexcept\u001b[39;00m \u001b[38;5;167;01mImportError\u001b[39;00m:\n",
      "File \u001b[0;32m~/miniconda3/lib/python3.8/importlib/__init__.py:127\u001b[0m, in \u001b[0;36mimport_module\u001b[0;34m(name, package)\u001b[0m\n\u001b[1;32m    126\u001b[0m         level \u001b[38;5;241m+\u001b[39m\u001b[38;5;241m=\u001b[39m \u001b[38;5;241m1\u001b[39m\n\u001b[0;32m--> 127\u001b[0m \u001b[38;5;28;01mreturn\u001b[39;00m \u001b[43m_bootstrap\u001b[49m\u001b[38;5;241;43m.\u001b[39;49m\u001b[43m_gcd_import\u001b[49m\u001b[43m(\u001b[49m\u001b[43mname\u001b[49m\u001b[43m[\u001b[49m\u001b[43mlevel\u001b[49m\u001b[43m:\u001b[49m\u001b[43m]\u001b[49m\u001b[43m,\u001b[49m\u001b[43m \u001b[49m\u001b[43mpackage\u001b[49m\u001b[43m,\u001b[49m\u001b[43m \u001b[49m\u001b[43mlevel\u001b[49m\u001b[43m)\u001b[49m\n",
      "File \u001b[0;32m<frozen importlib._bootstrap>:1014\u001b[0m, in \u001b[0;36m_gcd_import\u001b[0;34m(name, package, level)\u001b[0m\n",
      "File \u001b[0;32m<frozen importlib._bootstrap>:991\u001b[0m, in \u001b[0;36m_find_and_load\u001b[0;34m(name, import_)\u001b[0m\n",
      "File \u001b[0;32m<frozen importlib._bootstrap>:973\u001b[0m, in \u001b[0;36m_find_and_load_unlocked\u001b[0;34m(name, import_)\u001b[0m\n",
      "\u001b[0;31mModuleNotFoundError\u001b[0m: No module named 'openpyxl'",
      "\nDuring handling of the above exception, another exception occurred:\n",
      "\u001b[0;31mImportError\u001b[0m                               Traceback (most recent call last)",
      "Input \u001b[0;32mIn [3]\u001b[0m, in \u001b[0;36m<cell line: 5>\u001b[0;34m()\u001b[0m\n\u001b[1;32m      1\u001b[0m \u001b[38;5;66;03m#-------- Data frame of initial viral titer and constants for all patients --------#\u001b[39;00m\n\u001b[1;32m      2\u001b[0m \u001b[38;5;66;03m# Patients 1-6 refer to the Influenza A patients used to test Baccam's model\u001b[39;00m\n\u001b[1;32m      3\u001b[0m \u001b[38;5;66;03m# Adult (<65 years old) and Elderly (>=65 years old) refer to the patients from the median cohort of the COVID-19 sample which will be introduced later\u001b[39;00m\n\u001b[0;32m----> 5\u001b[0m df \u001b[38;5;241m=\u001b[39m \u001b[43mpd\u001b[49m\u001b[38;5;241;43m.\u001b[39;49m\u001b[43mread_excel\u001b[49m\u001b[43m(\u001b[49m\u001b[38;5;124;43m'\u001b[39;49m\u001b[38;5;124;43mAll patient details (Influenza A and COVID-19).xlsx\u001b[39;49m\u001b[38;5;124;43m'\u001b[39;49m\u001b[43m,\u001b[49m\u001b[43m \u001b[49m\u001b[43mindex_col\u001b[49m\u001b[38;5;241;43m=\u001b[39;49m\u001b[38;5;124;43m'\u001b[39;49m\u001b[38;5;124;43mPatient name\u001b[39;49m\u001b[38;5;124;43m'\u001b[39;49m\u001b[43m)\u001b[49m\n\u001b[1;32m      6\u001b[0m df\n",
      "File \u001b[0;32m~/miniconda3/lib/python3.8/site-packages/pandas/util/_decorators.py:311\u001b[0m, in \u001b[0;36mdeprecate_nonkeyword_arguments.<locals>.decorate.<locals>.wrapper\u001b[0;34m(*args, **kwargs)\u001b[0m\n\u001b[1;32m    305\u001b[0m \u001b[38;5;28;01mif\u001b[39;00m \u001b[38;5;28mlen\u001b[39m(args) \u001b[38;5;241m>\u001b[39m num_allow_args:\n\u001b[1;32m    306\u001b[0m     warnings\u001b[38;5;241m.\u001b[39mwarn(\n\u001b[1;32m    307\u001b[0m         msg\u001b[38;5;241m.\u001b[39mformat(arguments\u001b[38;5;241m=\u001b[39marguments),\n\u001b[1;32m    308\u001b[0m         \u001b[38;5;167;01mFutureWarning\u001b[39;00m,\n\u001b[1;32m    309\u001b[0m         stacklevel\u001b[38;5;241m=\u001b[39mstacklevel,\n\u001b[1;32m    310\u001b[0m     )\n\u001b[0;32m--> 311\u001b[0m \u001b[38;5;28;01mreturn\u001b[39;00m \u001b[43mfunc\u001b[49m\u001b[43m(\u001b[49m\u001b[38;5;241;43m*\u001b[39;49m\u001b[43margs\u001b[49m\u001b[43m,\u001b[49m\u001b[43m \u001b[49m\u001b[38;5;241;43m*\u001b[39;49m\u001b[38;5;241;43m*\u001b[39;49m\u001b[43mkwargs\u001b[49m\u001b[43m)\u001b[49m\n",
      "File \u001b[0;32m~/miniconda3/lib/python3.8/site-packages/pandas/io/excel/_base.py:457\u001b[0m, in \u001b[0;36mread_excel\u001b[0;34m(io, sheet_name, header, names, index_col, usecols, squeeze, dtype, engine, converters, true_values, false_values, skiprows, nrows, na_values, keep_default_na, na_filter, verbose, parse_dates, date_parser, thousands, decimal, comment, skipfooter, convert_float, mangle_dupe_cols, storage_options)\u001b[0m\n\u001b[1;32m    455\u001b[0m \u001b[38;5;28;01mif\u001b[39;00m \u001b[38;5;129;01mnot\u001b[39;00m \u001b[38;5;28misinstance\u001b[39m(io, ExcelFile):\n\u001b[1;32m    456\u001b[0m     should_close \u001b[38;5;241m=\u001b[39m \u001b[38;5;28;01mTrue\u001b[39;00m\n\u001b[0;32m--> 457\u001b[0m     io \u001b[38;5;241m=\u001b[39m \u001b[43mExcelFile\u001b[49m\u001b[43m(\u001b[49m\u001b[43mio\u001b[49m\u001b[43m,\u001b[49m\u001b[43m \u001b[49m\u001b[43mstorage_options\u001b[49m\u001b[38;5;241;43m=\u001b[39;49m\u001b[43mstorage_options\u001b[49m\u001b[43m,\u001b[49m\u001b[43m \u001b[49m\u001b[43mengine\u001b[49m\u001b[38;5;241;43m=\u001b[39;49m\u001b[43mengine\u001b[49m\u001b[43m)\u001b[49m\n\u001b[1;32m    458\u001b[0m \u001b[38;5;28;01melif\u001b[39;00m engine \u001b[38;5;129;01mand\u001b[39;00m engine \u001b[38;5;241m!=\u001b[39m io\u001b[38;5;241m.\u001b[39mengine:\n\u001b[1;32m    459\u001b[0m     \u001b[38;5;28;01mraise\u001b[39;00m \u001b[38;5;167;01mValueError\u001b[39;00m(\n\u001b[1;32m    460\u001b[0m         \u001b[38;5;124m\"\u001b[39m\u001b[38;5;124mEngine should not be specified when passing \u001b[39m\u001b[38;5;124m\"\u001b[39m\n\u001b[1;32m    461\u001b[0m         \u001b[38;5;124m\"\u001b[39m\u001b[38;5;124man ExcelFile - ExcelFile already has the engine set\u001b[39m\u001b[38;5;124m\"\u001b[39m\n\u001b[1;32m    462\u001b[0m     )\n",
      "File \u001b[0;32m~/miniconda3/lib/python3.8/site-packages/pandas/io/excel/_base.py:1419\u001b[0m, in \u001b[0;36mExcelFile.__init__\u001b[0;34m(self, path_or_buffer, engine, storage_options)\u001b[0m\n\u001b[1;32m   1416\u001b[0m \u001b[38;5;28mself\u001b[39m\u001b[38;5;241m.\u001b[39mengine \u001b[38;5;241m=\u001b[39m engine\n\u001b[1;32m   1417\u001b[0m \u001b[38;5;28mself\u001b[39m\u001b[38;5;241m.\u001b[39mstorage_options \u001b[38;5;241m=\u001b[39m storage_options\n\u001b[0;32m-> 1419\u001b[0m \u001b[38;5;28mself\u001b[39m\u001b[38;5;241m.\u001b[39m_reader \u001b[38;5;241m=\u001b[39m \u001b[38;5;28;43mself\u001b[39;49m\u001b[38;5;241;43m.\u001b[39;49m\u001b[43m_engines\u001b[49m\u001b[43m[\u001b[49m\u001b[43mengine\u001b[49m\u001b[43m]\u001b[49m\u001b[43m(\u001b[49m\u001b[38;5;28;43mself\u001b[39;49m\u001b[38;5;241;43m.\u001b[39;49m\u001b[43m_io\u001b[49m\u001b[43m,\u001b[49m\u001b[43m \u001b[49m\u001b[43mstorage_options\u001b[49m\u001b[38;5;241;43m=\u001b[39;49m\u001b[43mstorage_options\u001b[49m\u001b[43m)\u001b[49m\n",
      "File \u001b[0;32m~/miniconda3/lib/python3.8/site-packages/pandas/io/excel/_openpyxl.py:524\u001b[0m, in \u001b[0;36mOpenpyxlReader.__init__\u001b[0;34m(self, filepath_or_buffer, storage_options)\u001b[0m\n\u001b[1;32m    509\u001b[0m \u001b[38;5;28;01mdef\u001b[39;00m \u001b[38;5;21m__init__\u001b[39m(\n\u001b[1;32m    510\u001b[0m     \u001b[38;5;28mself\u001b[39m,\n\u001b[1;32m    511\u001b[0m     filepath_or_buffer: FilePath \u001b[38;5;241m|\u001b[39m ReadBuffer[\u001b[38;5;28mbytes\u001b[39m],\n\u001b[1;32m    512\u001b[0m     storage_options: StorageOptions \u001b[38;5;241m=\u001b[39m \u001b[38;5;28;01mNone\u001b[39;00m,\n\u001b[1;32m    513\u001b[0m ) \u001b[38;5;241m-\u001b[39m\u001b[38;5;241m>\u001b[39m \u001b[38;5;28;01mNone\u001b[39;00m:\n\u001b[1;32m    514\u001b[0m     \u001b[38;5;124;03m\"\"\"\u001b[39;00m\n\u001b[1;32m    515\u001b[0m \u001b[38;5;124;03m    Reader using openpyxl engine.\u001b[39;00m\n\u001b[1;32m    516\u001b[0m \n\u001b[0;32m   (...)\u001b[0m\n\u001b[1;32m    522\u001b[0m \u001b[38;5;124;03m        passed to fsspec for appropriate URLs (see ``_get_filepath_or_buffer``)\u001b[39;00m\n\u001b[1;32m    523\u001b[0m \u001b[38;5;124;03m    \"\"\"\u001b[39;00m\n\u001b[0;32m--> 524\u001b[0m     \u001b[43mimport_optional_dependency\u001b[49m\u001b[43m(\u001b[49m\u001b[38;5;124;43m\"\u001b[39;49m\u001b[38;5;124;43mopenpyxl\u001b[39;49m\u001b[38;5;124;43m\"\u001b[39;49m\u001b[43m)\u001b[49m\n\u001b[1;32m    525\u001b[0m     \u001b[38;5;28msuper\u001b[39m()\u001b[38;5;241m.\u001b[39m\u001b[38;5;21m__init__\u001b[39m(filepath_or_buffer, storage_options\u001b[38;5;241m=\u001b[39mstorage_options)\n",
      "File \u001b[0;32m~/miniconda3/lib/python3.8/site-packages/pandas/compat/_optional.py:129\u001b[0m, in \u001b[0;36mimport_optional_dependency\u001b[0;34m(name, extra, errors, min_version)\u001b[0m\n\u001b[1;32m    127\u001b[0m \u001b[38;5;28;01mexcept\u001b[39;00m \u001b[38;5;167;01mImportError\u001b[39;00m:\n\u001b[1;32m    128\u001b[0m     \u001b[38;5;28;01mif\u001b[39;00m errors \u001b[38;5;241m==\u001b[39m \u001b[38;5;124m\"\u001b[39m\u001b[38;5;124mraise\u001b[39m\u001b[38;5;124m\"\u001b[39m:\n\u001b[0;32m--> 129\u001b[0m         \u001b[38;5;28;01mraise\u001b[39;00m \u001b[38;5;167;01mImportError\u001b[39;00m(msg)\n\u001b[1;32m    130\u001b[0m     \u001b[38;5;28;01melse\u001b[39;00m:\n\u001b[1;32m    131\u001b[0m         \u001b[38;5;28;01mreturn\u001b[39;00m \u001b[38;5;28;01mNone\u001b[39;00m\n",
      "\u001b[0;31mImportError\u001b[0m: Missing optional dependency 'openpyxl'.  Use pip or conda to install openpyxl."
     ]
    }
   ],
   "source": [
    "#-------- Data frame of initial viral titer and constants for all patients --------#\n",
    "# Patients 1-6 refer to the Influenza A patients used to test Baccam's model\n",
    "# Adult (<65 years old) and Elderly (>=65 years old) refer to the patients from the median cohort of the COVID-19 sample which will be introduced later\n",
    "\n",
    "df = pd.read_excel('All patient details (Influenza A and COVID-19).xlsx', index_col='Patient name')\n",
    "df"
   ]
  },
  {
   "cell_type": "code",
   "execution_count": null,
   "id": "43e9d95d",
   "metadata": {},
   "outputs": [],
   "source": [
    "#-------- Defining a function with differential equations for analytical data --------#\n",
    "def viral_quantity(V0, beta, k, c, delta, p, days, T0=4e8, initial_I1=0, initial_I2=0, delta_t=0.01):\n",
    "    \n",
    "    T = T0\n",
    "    T_list = [T0]\n",
    "    \n",
    "    I1 = initial_I1\n",
    "    I1_list = [initial_I1]\n",
    "    \n",
    "    I2 = initial_I2\n",
    "    I2_list = [initial_I2]\n",
    "    \n",
    "    V = V0\n",
    "    V_list = [V0]\n",
    "    \n",
    "    t = 0\n",
    "    time = [t]\n",
    "    \n",
    "    no_of_steps = int(days/delta_t)\n",
    "    \n",
    "    for step in range(no_of_steps):\n",
    "        \n",
    "        delta_T = -beta * T * V * delta_t\n",
    "        T += delta_T\n",
    "        T_list.append(T)\n",
    "        \n",
    "        delta_I1 = ((beta * T * V) - (k * I1)) * delta_t\n",
    "        I1 += delta_I1\n",
    "        I1_list.append(I1)\n",
    "        \n",
    "        delta_I2 = ((k * I1) - (delta * I2)) * delta_t\n",
    "        I2 += delta_I2\n",
    "        I2_list.append(I2)\n",
    "        \n",
    "        delta_V = ((p * I2) - (c * V)) * delta_t\n",
    "        V += delta_V\n",
    "        V_list.append(V)\n",
    "        \n",
    "        t += delta_t\n",
    "        time.append(t)\n",
    "        \n",
    "    return np.array(time), np.array(V_list)"
   ]
  },
  {
   "cell_type": "code",
   "execution_count": null,
   "id": "b11a9c49",
   "metadata": {},
   "outputs": [],
   "source": [
    "#-------- Defining a function for returning viral quantity against time for any number of patients --------#\n",
    "def show_viral_quantity_graph(time_list, patient_viral_quantity, specific_patient, \n",
    "                              line_colour, ax=None):\n",
    "    \n",
    "    if ax==None:\n",
    "        fig, ax = plt.subplots(nrows=1, ncols=1)\n",
    "            \n",
    "    ax.plot(time_list, patient_viral_quantity, color=line_colour, \n",
    "            label=f'Predicted viral quantity of {specific_patient}')\n",
    "    ax.set_yscale('log')\n",
    "    \n",
    "    return ax"
   ]
  },
  {
   "cell_type": "code",
   "execution_count": null,
   "id": "21ef543b",
   "metadata": {},
   "outputs": [],
   "source": [
    "#-------- Plotting viral titer against time for all 6 sample patients --------#\n",
    "fig, ax_influenza = plt.subplots(nrows=2, ncols=3,\n",
    "                       figsize=(18, 10),\n",
    "                       sharex=True, sharey=True)\n",
    "\n",
    "ax_influenza = ax_influenza.flatten()\n",
    "\n",
    "df_influenza_model = df.iloc[:6, :7]\n",
    "df_influenza_experimental_data = df.iloc[:6, 7:]\n",
    "\n",
    "#-------- Plotting model & experimental data --------#\n",
    "for i in range(6):\n",
    "    \n",
    "    time_list, patient_viral_titer = viral_quantity(*df_influenza_model.iloc[i])\n",
    "    show_viral_quantity_graph(time_list, patient_viral_titer, specific_patient='patients', \n",
    "                              line_colour='blueviolet', ax=ax_influenza[i])\n",
    "    \n",
    "    time_post_infection = np.arange(1,8)\n",
    "    ax_influenza[i].scatter(time_post_infection, df_influenza_experimental_data.iloc[i], \n",
    "                            color='seagreen', marker='s', label='Experimental data')\n",
    "    \n",
    "    ax_influenza[i].axhline(y=10**0.5, color='r', linestyle=':', label='Limit for detection of viral quantity')\n",
    "    ax_influenza[i].set_title(f'Viral titer of {df_influenza_model.index[i]}')\n",
    "    \n",
    "    ax_influenza[i].text(0.55,3e-4, f'Peak viral titer: {patient_viral_titer.max():.2e} TCID$_{{50}}$ /mL on day {time_list[patient_viral_titer.argmax()]:.2f}')\n",
    "\n",
    "ax_influenza[0].set_xlim(0,7)\n",
    "ax_influenza[0].set_ylim(1e-4,1e8)\n",
    "ax_influenza[2].legend(loc=(1.01,0.85), frameon=False)\n",
    "\n",
    "ax_influenza[-2].set_xlabel('time post infection (days)')\n",
    "ax_influenza[0].set_ylabel('Viral titer (TCID$_{50}$ /mL)')\n",
    "ax_influenza[3].set_ylabel('Viral titer (TCID$_{50}$ /mL)')\n",
    "\n",
    "plt.tight_layout()\n",
    "plt.show()"
   ]
  },
  {
   "cell_type": "markdown",
   "id": "43cb6ccd",
   "metadata": {},
   "source": [
    "### Graph analysis for Baccam's Model"
   ]
  },
  {
   "cell_type": "markdown",
   "id": "4dbdd6a6",
   "metadata": {},
   "source": [
    "Graphs of viral titer/TCID$_{50}$/ml ($V$) against time/days ($t$) for different patients are plotted from the values of $V$ derived from Equation 4. There is an overall trend of increasing viral titer, attaining an infection peak, and decreasing viral titer until the amount of virus produced is below the detection limit across all patients. This signifies how upon infection, the amount of virus in the patient increases due to viral replication, reaching a maximum where the rate of viral replication is approximately equal to the rate at which the immune system clears viral particles, and a decrease in the amount of virus due to recovery from the viral infection. \n",
    "\n",
    "The main purpose of these graphs is to compare the experimental data with the data produced using Baccam’s model in order to justify the reliability of the model. From our graphs, we are able to notice that the line graphs that are plotted using the model mostly fits the trend shown by the experimental data which is plotted as dots. \n",
    "\n",
    "As we compare between the graphs of the 6 patients, we can observe that the infection peaks differ between all patients. This could be possibly due to the patients’ differing initial viral titer ($V_0$). For patients 4, 5 and 6, the $V_0$ values (4.9, 1.7 and 2.4 TCID$_{50}$/ml respectively) were observed to be greater than that of patients 1, 2 and 3 (4.3e-02, 3.1e-07 and 7e-01 TCID$_{50}$/ml respectively). Meanwhile, the peak viral titers for patients 4, 5 and 6 (3.2e+06,1.5e+06 and 1.8e+06 TCID$_{50}$/ml respectively) were also higher than that of patients 1, 2 and 3 (6.1e+05, 7.3e+04 and 1.6e+05 TCID$_{50}$/ml respectively ). Patient 2 had the lowest $V_0$ value of 3.1e-7 TCID$_{50}$/ml, and gave the lowest titer peak value of 7.3e+04 TCID$_{50}$/ml. \n",
    "\n",
    "Therefore, from the comparison between the 6 patients, the patient with the highest viral titer peak is most likely to be prioritised as they will have the highest risk of severe infection, which increases their risk of co-morbidity$^{9}$.  With a higher amount of viral particles in the patients, there is a need to prioritise them as their bodies will be more susceptible to secondary infections due to their weakened immune system from the infection."
   ]
  },
  {
   "cell_type": "markdown",
   "id": "6c541465",
   "metadata": {},
   "source": [
    "### Limitations of model"
   ]
  },
  {
   "cell_type": "markdown",
   "id": "65d00073",
   "metadata": {},
   "source": [
    "In this model, the effects of an immune response, such as interferon response, are not included. Instead, the immune responses are only implicitly accounted for by considering the viral clearance rate and the death rate of virally infected cells. The failure to fully account for the interferon response could be possibly why the graph produced from the model was unable to be precisely fitted onto the experimental data, even when all parameters used are already best-fit parameter estimates. \n",
    "\n",
    "The choice of Baccam’s Target cell limited model with delayed virus production over the interferon response model was due to the limited availability of data for parameters regarding interferon response for Influenza A and SARS-CoV-2. Nevertheless, the generic pattern of viral load across the infection period is not significantly affected, as our study is not directly comparing the specific values of viral load across patients. Hence, this model is sufficient to provide us with an insight into the relationship between various variables and viral kinetics which suits the purpose of our project. \n",
    "\n"
   ]
  },
  {
   "cell_type": "markdown",
   "id": "95984fad",
   "metadata": {},
   "source": [
    "### In the context of COVID-19"
   ]
  },
  {
   "cell_type": "markdown",
   "id": "c17d3ecd",
   "metadata": {},
   "source": [
    "#### Parameters"
   ]
  },
  {
   "cell_type": "markdown",
   "id": "445c43f5",
   "metadata": {},
   "source": [
    "All the parameters used were COVID-19 specific and adapted from Néant et al. (2021). From the paper, we utilised the following values:\n",
    "\n",
    "<u>Table 2\n",
    "\n",
    "$𝜷$  : 4.93×10$^{−5}$ ml.viral copies$^{−1}$.day$^{−1}$\n",
    "\n",
    "$𝑝𝑇_0$ : 8.09×10$^{10}$ viral copies.ml$^{−1}$.day$^{−1}$\n",
    "\n",
    "\n",
    "<u>Page 9 (under assumptions on parameter values)\n",
    "\n",
    "$𝑇_0$ : 4×10$^{8}$ cells\n",
    "    \n",
    "The $𝑝𝑇_0$ value is then divided by $𝑇_0$ value to give us the value of $p$.\n",
    "\n",
    "$p$ : 202.25 viral copies.ml$^{−1}$.day$^{−1}$\n",
    "\n",
    "<u>SI document, Fig S7\n",
    "\n",
    "$c$ : 10 day$^{−1}$\n",
    "\n",
    "$k$ : 4 day$^{−1}$\n"
   ]
  },
  {
   "cell_type": "markdown",
   "id": "63d00800",
   "metadata": {},
   "source": [
    "The unit used to measure the amount of virus in this paper is viral copies/ml instead of TCID$_{50}$/ml which is used in the model of Influenza A. Nevertheless, both units are equally functional in the model as the proportion of the viral load to the other variables is still maintained, with the units of all related variables to be standardised with respect to the new unit of viral copies/ml.   \n",
    "\n",
    "The patient data from Néant et al. (2021) was collected starting from the day of admission to the hospital. Thus, day 0 refers to the day of admission, instead of start of infection, which was the case for the Influenza A study. This is one of the limitations as we cannot determine the exact start of infection if we are using data from real-world patients instead of artificially-infected patients. Similar to the COVID-19 paper, 14 days of infection period was used when adopting Baccam’s model due to the longer infection period of SARS-CoV-2 as compared to Influenza A. This allows us to better compare the time needed to recover for patients from both age groups. \n"
   ]
  },
  {
   "cell_type": "markdown",
   "id": "5682f51c",
   "metadata": {},
   "source": [
    "#### Minor modification from Baccam’s model"
   ]
  },
  {
   "cell_type": "markdown",
   "id": "ed76bd3e",
   "metadata": {},
   "source": [
    "In the context of COVID-19, the differential equations are also being modified to discriminate against the non-infectious viral particles. \n",
    "\n",
    "$$\\frac{dT}{dt} = -βTV_i$$\n",
    "\n",
    "**$$\\frac{dI_1}{dt}= βTV_i-kI_1$$**\n",
    "\n",
    "$$\\frac{dI_2}{dt}=kI_1-δI_2$$\n",
    "\n",
    "$$\\frac{dV_i}{dt}=p\\mu I_2-cV_i$$\n",
    "\n",
    "Due to the fast replication of the virus, the new virions produced may be altered in their RNA sequence, hence losing their infectivity partially or completely. These non-infectious viral particles form the vast majority of all viral particles produced, which do not add to the severity of the disease as they are unable to infect host cells and replicate to increase viral load in the patients. \n",
    "\n",
    "Therefore, as inspired from Néant et al. (2021), we will only account for the infectious viral particles ($V_i$),  by multiplying viral load ($V$) with the proportion of viral particles that are infectious of the total amount of viral particles ($\\mu$). The new equation 8 takes into account that only a portion of the newly produced viral particles will be infectious, hence changing $pI_2$ to $p\\mu I_2$. The value of $\\mu$ used by Néant et al. (2021) is 10$^{-4}$. Since $\\mu$ is a fraction of viral particles, the units for the overall equation remain unchanged.\n",
    "\n",
    "We did not modify the whole python code to account for this single constant added. Instead, we will change the input parameter of $p$ to $p\\mu$. The graph generated is thus the infectious viral load ($V_i$) against time.  \n",
    "\n",
    "Hence, as we start our code, we will multiply the initial viral load ($V_0$) with  10$^{-4}$ to get the initial infectious viral load ($V_{i0}$). "
   ]
  },
  {
   "cell_type": "markdown",
   "id": "fc902fb1",
   "metadata": {},
   "source": [
    "#### Study on the viral kinetics in 2 different age groups by changing $δ$, across different $V_{i0}$ values\n"
   ]
  },
  {
   "cell_type": "markdown",
   "id": "eeb4c57c",
   "metadata": {},
   "source": [
    "We have explained Baccam’s model and encapsulated the involved equations into a Python function. Now, we will put it in the context of COVID-19 by visualising the difference of viral kinetics across populations with different age ranges: adults below 65 years of age, and elderly above 65 years of age. Based on the findings of Néant et al. (2021), the most significant difference between these two age groups is the loss rate of virally infected cells ($δ$). Elderly above 65 years old had a smaller $δ$ (0.84 cells.day$^{−1}$), as compared to adults below 65 years old (1.09 cells.day$^{−1}$). \n",
    "\n",
    "Therefore, we will generate various subplots using different initial infectious viral load ($V_{i0}$) values that fall within the IQR of $V_{i0}$ (10$^{0.1}$ to 10$^{4.4}$ viral copies/ mL) across patients of the above-mentioned age ranges. The range of $V_{i0}$ used are 10$^{0.1}$, 10$^{0.96}$, 10$^{1.82}$, 10$^{2.68}$, 10$^{3.54}$ and 10$^{4.4}$ viral copies/ mL. In each plot, the same $V_{i0}$ will be used, so that the viral kinetics patterns of patients from different age groups can be compared. We can then compare across the different $V_{i0}$ graphs to analyse to what extent the initial infectious viral loads change the viral kinetics pattern in both age groups. With this, we hope to demonstrate how manipulating one variable ($δ$) to represent different age groups can provide us an insight on the difference of viral kinetics across different $V_{i0}$.\n"
   ]
  },
  {
   "cell_type": "code",
   "execution_count": null,
   "id": "d8533d5b",
   "metadata": {},
   "outputs": [],
   "source": [
    "#-------- Plotting infectious viral load against time for adult and elderly patients --------#\n",
    "fig, ax_COVID = plt.subplots(nrows=2, ncols=3,\n",
    "                       figsize=(18, 10),\n",
    "                       sharex=True, sharey=True)\n",
    "\n",
    "ax_COVID = ax_COVID.flatten()\n",
    "\n",
    "Vi0 = [10**0.1, 10**0.96, 10**1.82, 10**2.68, 10**3.54, 10**4.4]\n",
    "# Initial viral load (V0) was multiplied by factor, 10^-4, to get the initial infectious viral load (Vi0)\n",
    "# Between the range of 10^0.1 to 10^4.4, equal intervals on a log10 scale were set for a better spread of Vi0 values\n",
    "\n",
    "df_COVID = df.iloc[-2:, 1:7]\n",
    "\n",
    "for i in range (6):\n",
    "    \n",
    "    time_list_adult, patient_viral_load_adult = viral_quantity(Vi0[i], *df_COVID.iloc[-2])\n",
    "    show_viral_quantity_graph(time_list_adult, patient_viral_load_adult, df_COVID.index[-2], \n",
    "                              line_colour='dodgerblue', ax=ax_COVID[i])\n",
    "    \n",
    "    time_list_elderly, patient_viral_load_elderly = viral_quantity(Vi0[i], *df_COVID.iloc[-1])\n",
    "    show_viral_quantity_graph(time_list_elderly, patient_viral_load_elderly, df_COVID.index[-1],\n",
    "                              line_colour='darkmagenta', ax=ax_COVID[i])\n",
    "    \n",
    "    ax_COVID[i].axhline(y=10**2, color='crimson', linestyle=':', label='Limit for detection of viral quantity')\n",
    "    \n",
    "    ax_COVID[i].text(0.2,3e-2, f'{df.index[-2]} peak viral load: {patient_viral_load_adult.max():.2e} viral copies/mL on day {time_list_adult[patient_viral_load_adult.argmax()]:.2f}\\n{df.index[-1]} peak viral load: {patient_viral_load_elderly.max():.2e} viral copies/mL on day {time_list_elderly[patient_viral_load_elderly.argmax()]:.2f}')   \n",
    "        \n",
    "ax_COVID[0].set_xlim(0,14)\n",
    "ax_COVID[0].set_ylim(1e-2,1e8)\n",
    "ax_COVID[2].legend(loc=(1.01,0.85), frameon=False)\n",
    "        \n",
    "ax_COVID[1].set_title(f'Infectious viral load of COVID-19 patients')\n",
    "ax_COVID[-2].set_xlabel('time post admission (days)')\n",
    "ax_COVID[0].set_ylabel('Infectious viral load (viral copies/mL)')\n",
    "ax_COVID[3].set_ylabel('Infectious viral load (viral copies/mL)')\n",
    "\n",
    "plt.tight_layout()\n",
    "plt.show()"
   ]
  },
  {
   "cell_type": "markdown",
   "id": "a90edfe8",
   "metadata": {},
   "source": [
    "### Graph Analysis betweem 2 age groups for each V$_{i0}$"
   ]
  },
  {
   "cell_type": "markdown",
   "id": "50c4154a",
   "metadata": {},
   "source": [
    "From each of the graphs above, we observe that the duration of infection for elderly above 65 years old (around 11 to 12 days) is longer than that of adults below 65 years old (around 9 to 10 days). The end of infection is determined by the time when the viral load reaches the limit of detection. This suggests that a longer period of time is required for the elderly to recover from the disease (ie. to reach a low level of viral load). \n",
    "\n",
    "We also observed that the peak infectious viral load for each $V_{i0}$ was slightly higher for the elderly as compared to the adults. The peak infectious viral load for the elderly range between 4.75e+05 viral copies/mL to 4.77e+05 viral copies/mL, while that of the adults range between 4.35e+05 viral copies/mL to 4.36e+05 viral copies/mL respectively. \n",
    "\n",
    "\n"
   ]
  },
  {
   "cell_type": "markdown",
   "id": "f089fb6c",
   "metadata": {},
   "source": [
    "### Graph Analysis between 6 different V$_{i0}$ values and their impact on the 2 age groups"
   ]
  },
  {
   "cell_type": "markdown",
   "id": "fd19a848",
   "metadata": {},
   "source": [
    "Across the 6 graphs, we noticed that the $V_{i0}$ does not significantly affect the peak infectious viral load for both age groups separately. However, the different values of  $V_{i0}$ does affect the time needed to reach the peak of infection. We noticed that the higher the value of $V_{i0}$, the shorter the time needed to reach the peak infectious viral load. This is reasonable as a greater initial infectious viral load could allow more uninfected cells to be infected per unit time, resulting in a faster rate of increase in infectious viral load to reach the peak. To better visualise this trend, we plotted a graph of time taken to reach the peak against $V_{i0}$.\n"
   ]
  },
  {
   "cell_type": "code",
   "execution_count": null,
   "id": "d523f004",
   "metadata": {},
   "outputs": [],
   "source": [
    "#-------- Plotting time taken to reach peak infectious viral load against Vi0 --------# \n",
    "def time_to_peak(Vi0, beta, k, c, delta, p, days):\n",
    "\n",
    "    time_list, patient_viral_load = viral_quantity(Vi0, beta, k, c, delta, p, days)\n",
    "    \n",
    "    return time_list[patient_viral_load.argmax()]\n",
    "\n",
    "time_to_peak_adult = [time_to_peak(Vi0[i], *df_COVID.iloc[-2]) for i in range (6)]\n",
    "time_to_peak_elderly = [time_to_peak(Vi0[i], *df_COVID.iloc[-1]) for i in range (6)]\n",
    "\n",
    "plt.figure(figsize=(18,9))\n",
    "\n",
    "plt.plot(Vi0, time_to_peak_adult, color='g', label='Adult')\n",
    "plt.plot(Vi0, time_to_peak_elderly, color=\"r\", label='Elderly')\n",
    "\n",
    "plt.xscale('log')\n",
    "\n",
    "plt.title('Time taken to reach peak infectious viral load (days) against Vi0 (viral copies/mL)')\n",
    "plt.xlabel('Vi0 (viral copies/mL)')\n",
    "plt.ylabel('Time taken to reach peak infectious viral load (days)')\n",
    "plt.legend(frameon=True)\n",
    "\n",
    "plt.tight_layout()\n",
    "plt.show()"
   ]
  },
  {
   "cell_type": "markdown",
   "id": "4981538d",
   "metadata": {},
   "source": [
    "### Graph Analysis of the relationship between V$_{i0}$ and time taken to reach peak infectious viral load"
   ]
  },
  {
   "cell_type": "markdown",
   "id": "58da68d8",
   "metadata": {},
   "source": [
    "From the graph, we can confirm our earlier observation that the higher the $V_{i0}$ values, the shorter the time it takes for both age groups to reach the peak infectious viral load. \n",
    "\n",
    "Interestingly, in this graph we also observe that the elderly consistently take a slightly longer time (the differences of time is less than 0.1 day) to reach the peak infectious viral load than the adults at every $V_{i0}$. This could be attributed to the higher peak reached and the longer incubation period of SARS-CoV-2 in elderlies above 65, as compared to adults$^{10}$. This lengthens the time required to reach the peak infectious viral load, explaining why the elderly reach their peak slightly later than the adults. "
   ]
  },
  {
   "cell_type": "markdown",
   "id": "dbece2a6",
   "metadata": {},
   "source": [
    "## <u>Conclusion"
   ]
  },
  {
   "cell_type": "markdown",
   "id": "28e6b4ad",
   "metadata": {},
   "source": [
    "Linking back to the purpose of our project, our viral kinetic models and graphs suggest that elderly above 65 years old are more at risk than adults below 65 years old as they take a longer time to recover once being infected by SARS-CoV-2. Changes in $V_{i0}$ did not cause any significant changes to the overall viral kinetics for both age groups, except that a larger $V_{i0}$ resulted in the peak infectious viral load being reached faster. \n",
    "\n",
    "At the point of admission, patients with higher $V_{i0}$ need to be prioritised as they will be reaching the peak of infection very soon. At the recovery stage, the elderly population has to be prioritised as compared to the younger population due to their slower recovery. \n"
   ]
  },
  {
   "cell_type": "markdown",
   "id": "5955ee07",
   "metadata": {},
   "source": [
    "## <u>Future works"
   ]
  },
  {
   "cell_type": "markdown",
   "id": "80089043",
   "metadata": {},
   "source": [
    "With our COVID-19 contextualised analysis across 2 different age demographics in a population, future research and refinement could be done for improvement, increasing its applicability for real world medical issues. Below, we will explore the potential of using this model for different demographics such as age and diseases, as well as how we can further refine the model to include a patient’s immune response.\n",
    "\n",
    "### Applicability to Different Demographics and Different Diseases\n",
    "\n",
    "We could also diversify the focus of our age demographics to include other potentially vulnerable age groups such as children or the immunocompromised (e.g. cancer and diabetic patients). These different stratified groups of patients might also require different general constants as the co-morbidities of the immunocompromised could result in different adverse effects that might facilitate stronger viral infections. For example, a recent study by Chen et al. (2020) revealed in COVID-19 patients a negative correlation between diabetes or hypertension, and the viral clearance rate, $c^{11}$. Another study by Babady et al. (2021) identified a decrease in $c$ of more than 30 times in cancer patients$^{12}$. Therefore, by recognising the effects of different co-morbidities on the parameters of this model, we can potentially utilise the model with updated parameters to more accurately analyse the severity of the situation the patient is currently facing.\n",
    "\n",
    "### Enhancing the Model\n",
    "\n",
    "In addition, Baccam also suggested improvements to this current model, mainly taking into account the patient’s immune response with an interferon response model. Peak interferon (IFN) response was measured no more than 1 day after peak infectious viral load. Assuming that IFN-$α$ is secreted by $I_2$, we could calculate a more fine-tuned rate of viral production, $p$. This would produce a bimodal titer curve, with the second peak being the true peak of infection. Despite the ingenuity of this additional model, Baccam did not implement the idea due to the lack of IFN data for patients. Hence, to complement Baccam’s idea, we can draw inspiration from Oke et al. (2017), using an enzyme-linked immunosorbent assay to measure IFN-$α$ levels$^{13}$.\n",
    "\n",
    "By taking into account a patient-specific interferon response, we could plot the graph for a bimodal titer curve, taking into account the delay in peak infectious viral load and hence increasing our accuracy by successfully identifying the true peak viral load. Similarly, we could attempt to compare IFN levels of different demographics (e.g. age groups, immunocompromised individuals) using pre-recorded data, to more precisely pinpoint individuals who are closer to the true peak viral load.\n",
    "\n",
    "Another avenue for enhancement could be exploring the effects of vaccination on an individual's immune strength. In a recent study, Husseini et al. (2020) hypothesized the potential effects of a IFN-$γ$ induced immune response pathway for COVID-19 from non-COVID-19 vaccines like Hepatitis A and Influenza flu vaccines$^{14}$. Therefore, by using the interferon response model for a similar IFN (IFN-$γ$), we can potentially use this enhancement to analyse the effectiveness of vaccinations that directly or indirectly bring about an IFN response.\n",
    "\n",
    "Lastly, we can use the interferon response model to measure efficacies of interferon concerning COVID-19 treatments or drugs. Novel interferon therapies for COVID-19 have recently been a topic of interest in scientists, with IFN-$β$ showing superior potency as compared to IFN-$α^{15}$. A specific arm of IFN-$β$, IFN-$β$-1a, is currently undergoing clinical trials to test its efficacy with COVID-19 patients$^{16}$. Therefore, by utilising a computational method like this interferon response model, we could potentially save much precious time and resources in testing treatment efficacy.\n"
   ]
  },
  {
   "cell_type": "markdown",
   "id": "c0b0b706",
   "metadata": {},
   "source": [
    "## <u>References"
   ]
  },
  {
   "cell_type": "markdown",
   "id": "2b000cb3",
   "metadata": {},
   "source": [
    "1. Tham, D. COVID-19 isolation bed occupancy at 85%; hospital manpower a “key resource constraint”: MOH\n",
    "https://www.channelnewsasia.com/singapore/covid19-hospital-capacity-manpower-nurses-bed-occupancy-2230876 (accessed 2022 -03 -31).\n",
    "2. Canini, L.; Perelson, A. S. Viral Kinetic Modeling: State of the Art. J Pharmacokinet Pharmacodyn 2014, 41 (5), 431–443. https://doi.org/10.1007/s10928-014-9363-3.\n",
    "3. Baccam, P.; Beauchemin, C.; Macken, C. A.; Hayden, F. G.; Perelson, A. S. Kinetics of Influenza A Virus Infection in Humans. Journal of Virology 2006, 80 (15), 7590–7599. https://doi.org/10.1128/JVI.01623-05.\n",
    "4. Khorramdelazad, H.; Kazemi, M. H.; Najafi, A.; Keykhaee, M.; Zolfaghari Emameh, R.; Falak, R. Immunopathological Similarities between COVID-19 and Influenza: Investigating the Consequences of Co-Infection. Microb Pathog 2021, 152, 104554. https://doi.org/10.1016/j.micpath.2020.104554.\n",
    "5. Néant, N.; Lingas, G.; Le Hingrat, Q.; Ghosn, J.; Engelmann, I.; Lepiller, Q.; Gaymard, A.; Ferré, V.; Hartard, C.; Plantier, J.-C.; Thibault, V.; Marlet, J.; Montes, B.; Bouiller, K.; Lescure, F.-X.; Timsit, J.-F.; Faure, E.; Poissy, J.; Chidiac, C.; Raffi, F.; Kimmoun, A.; Etienne, M.; Richard, J.-C.; Tattevin, P.; Garot, D.; Le Moing, V.; Bachelet, D.; Tardivon, C.; Duval, X.; Yazdanpanah, Y.; Mentré, F.; Laouénan, C.; Visseaux, B.; Guedj, J.; for the French COVID Cohort Investigators and French Cohort Study groups. Modeling SARS-CoV-2 Viral Kinetics and Association with Mortality in Hospitalized Patients from the French COVID Cohort. Proceedings of the National Academy of Sciences 2021, 118 (8), e2017962118. https://doi.org/10.1073/pnas.2017962118.\n",
    "6. IEM. Sid Baccam. IEM.\n",
    "7. Mangold, M. Tissue Culture Infectious Dose (TCID50) Assays: How to determine virus infectivity? https://www.bmglabtech.com/pt/tissue-culture-infectious-dose-tcid50-assays-how-to-determine-virus-infectivity/ (accessed 2022 -04 -01).\n",
    "8. Murphy, B. R.; Rennels, M. B.; Douglas, R. G.; Betts, R. F.; Couch, R. B.; Cate, T. R.; Chanock, R. M.; Kendal, A. P.; Maassab, H. F.; Suwanagool, S.; Sotman, S. B.; Cisneros, L. A.; Anthony, W. C.; Nalin, D. R.; Levine, M. M. Evaluation of Influenza A/Hong Kong/123/77 (H1N1) Ts-1A2 and Cold-Adapted Recombinant Viruses in Seronegative Adult Volunteers. Infect Immun 1980, 29 (2), 348–355.\n",
    "9. Zhou, Y.; Yang, Q.; Chi, J.; Dong, B.; Lv, W.; Shen, L.; Wang, Y. Comorbidities and the Risk of Severe or Fatal Outcomes Associated with Coronavirus Disease 2019: A Systematic Review and Meta-Analysis. International Journal of Infectious Diseases 2020, 99, 47–56. https://doi.org/10.1016/j.ijid.2020.07.029.\n",
    "10. Kong, T. Longer Incubation Period of Coronavirus Disease 2019 (COVID‐19) in Older Adults. AGING MEDICINE 2020. https://doi.org/10.1002/agm2.12114.\n",
    "11. Chen, X.; Hu, W.; Ling, J.; Mo, P.; Zhang, Y.; Jiang, Q.; Ma, Z.; Cao, Q.; Deng, L.; Song, S.; Zheng, R.; Gao, S.; Ke, H.; Gui, X.; Lundkvist, Å.; Li, J.; Lindahl, J. F.; Xiong, Y. Hypertension and Diabetes Delay the Viral Clearance in COVID-19 Patients. medRxiv March 24, 2020, p 2020.03.22.20040774. https://doi.org/10.1101/2020.03.22.20040774.\n",
    "12. Babady, N. E.; Cohen, B.; McClure, T.; Chow, K.; Caldararo, M.; Jani, K.; McMillen, T.; Taur, Y.; Shah, M.; Robilotti, E.; Aslam, A.; Kamboj, M. Variable Duration of Viral Shedding in Cancer Patients with Coronavirus Disease 2019 (COVID-19). Infect Control Hosp Epidemiol 2021, 1–3. https://doi.org/10.1017/ice.2021.378.\n",
    "13. Oke, V.; Brauner, S.; Larsson, A.; Gustafsson, J.; Zickert, A.; Gunnarsson, I.; Svenungsson, E. IFN-Λ1 with Th17 Axis Cytokines and IFN-α Define Different Subsets in Systemic Lupus Erythematosus (SLE). Arthritis Research & Therapy 2017, 19 (1), 139. https://doi.org/10.1186/s13075-017-1344-7.\n",
    "14. Husseini, A. A. COVID-19 Disease and Interferon-γ: Has It a Protective Impact on Mortality? Erciyes Med J 2020. https://doi.org/10.14744/etd.2020.40326.\n",
    "15. Alavi Darazam, I.; Shokouhi, S.; Pourhoseingholi, M. A.; Naghibi Irvani, S. S.; Mokhtari, M.; Shabani, M.; Amirdosara, M.; Torabinavid, P.; Golmohammadi, M.; Hashemi, S.; Azimi, A.; Jafarazadeh Maivan, M. H.; Rezaei, O.; Zali, A.; Hajiesmaeili, M.; Shabanpour Dehbsneh, H.; Hoseyni Kusha, A.; Taleb Shoushtari, M.; Khalili, N.; Soleymaninia, A.; Gachkar, L.; Khoshkar, A. Role of Interferon Therapy in Severe COVID-19: The COVIFERON Randomized Controlled Trial. Sci Rep 2021, 11 (1), 8059. https://doi.org/10.1038/s41598-021-86859-y.\n",
    "16. Bosi, E. Randomized, Controlled, Open Label, Phase 2 Clinical Trial of Interferon-β-1a (IFNβ-1a) in COVID-19 Patients; Clinical trial registration NCT04449380; clinicaltrials.gov, 2021.\n"
   ]
  }
 ],
 "metadata": {
  "kernelspec": {
   "display_name": "Python 3 (ipykernel)",
   "language": "python",
   "name": "python3"
  },
  "language_info": {
   "codemirror_mode": {
    "name": "ipython",
    "version": 3
   },
   "file_extension": ".py",
   "mimetype": "text/x-python",
   "name": "python",
   "nbconvert_exporter": "python",
   "pygments_lexer": "ipython3",
   "version": "3.8.12"
  },
  "latex_envs": {
   "LaTeX_envs_menu_present": true,
   "autoclose": false,
   "autocomplete": true,
   "bibliofile": "biblio.bib",
   "cite_by": "apalike",
   "current_citInitial": 1,
   "eqLabelWithNumbers": true,
   "eqNumInitial": 1,
   "hotkeys": {
    "equation": "Ctrl-E",
    "itemize": "Ctrl-I"
   },
   "labels_anchors": false,
   "latex_user_defs": false,
   "report_style_numbering": false,
   "user_envs_cfg": false
  }
 },
 "nbformat": 4,
 "nbformat_minor": 5
}
